{
  "nbformat": 4,
  "nbformat_minor": 0,
  "metadata": {
    "colab": {
      "provenance": []
    },
    "kernelspec": {
      "name": "python3",
      "display_name": "Python 3"
    },
    "language_info": {
      "name": "python"
    }
  },
  "cells": [
    {
      "cell_type": "code",
      "execution_count": null,
      "metadata": {
        "id": "i3sFa1XAA0it"
      },
      "outputs": [],
      "source": [
        "#Human readable duration format, python, 4 kyu\n",
        "\n",
        "def format_duration(seconds):\n",
        "    if seconds == 0:\n",
        "        return \"now\"\n",
        "\n",
        "    units = [\n",
        "        (\"year\", 365 * 24 * 60 * 60),\n",
        "        (\"day\", 24 * 60 * 60),\n",
        "        (\"hour\", 60 * 60),\n",
        "        (\"minute\", 60),\n",
        "        (\"second\", 1),\n",
        "    ]\n",
        "\n",
        "    result = []\n",
        "    for unit, unit_seconds in units:\n",
        "        if seconds >= unit_seconds:\n",
        "            count = seconds // unit_seconds\n",
        "            if count > 1:\n",
        "                unit += \"s\"\n",
        "            result.append(f\"{count} {unit}\")\n",
        "            seconds %= unit_seconds\n",
        "\n",
        "    # Join components with commas and an \"and\" for the last one\n",
        "    if len(result) > 1:\n",
        "        return \", \".join(result[:-1]) + \" and \" + result[-1]\n",
        "    else:\n",
        "        return result[0]"
      ]
    },
    {
      "cell_type": "code",
      "source": [],
      "metadata": {
        "id": "bAGczLhYA57p"
      },
      "execution_count": null,
      "outputs": []
    }
  ]
}