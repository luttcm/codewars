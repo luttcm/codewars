{
  "nbformat": 4,
  "nbformat_minor": 0,
  "metadata": {
    "colab": {
      "provenance": []
    },
    "kernelspec": {
      "name": "python3",
      "display_name": "Python 3"
    },
    "language_info": {
      "name": "python"
    }
  },
  "cells": [
    {
      "cell_type": "code",
      "execution_count": null,
      "metadata": {
        "id": "i3sFa1XAA0it"
      },
      "outputs": [],
      "source": [
        "#Sum Strings as Numbers python 4 kyu\n",
        "\n",
        "import gmpy2\n",
        "\n",
        "def sum_strings(x, y):\n",
        "    if x == '' or y == '':\n",
        "        x += y\n",
        "        if x == '':\n",
        "            return '0'\n",
        "        return x\n",
        "    else:\n",
        "        x_num = gmpy2.mpz(x)\n",
        "        y_num = gmpy2.mpz(y)\n",
        "        summ = x_num + y_num\n",
        "        return str(summ)"
      ]
    },
    {
      "cell_type": "code",
      "source": [],
      "metadata": {
        "id": "bAGczLhYA57p"
      },
      "execution_count": null,
      "outputs": []
    }
  ]
}