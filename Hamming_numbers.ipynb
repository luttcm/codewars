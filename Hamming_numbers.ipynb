{
  "nbformat": 4,
  "nbformat_minor": 0,
  "metadata": {
    "colab": {
      "provenance": []
    },
    "kernelspec": {
      "name": "python3",
      "display_name": "Python 3"
    },
    "language_info": {
      "name": "python"
    }
  },
  "cells": [
    {
      "cell_type": "code",
      "execution_count": 6,
      "metadata": {
        "id": "i3sFa1XAA0it"
      },
      "outputs": [],
      "source": [
        "#Hamming numbers, python, 4 kyu\n",
        "\n",
        "def hamming(n):\n",
        "    if n <= 0:\n",
        "        return 0\n",
        "\n",
        "    hamming_numbers = [1]\n",
        "    i2, i3, i5 = 0, 0, 0\n",
        "\n",
        "    while len(hamming_numbers) < n:\n",
        "        next_hamming = min(hamming_numbers[i2] * 2, hamming_numbers[i3] * 3, hamming_numbers[i5] * 5)\n",
        "        hamming_numbers.append(next_hamming)\n",
        "\n",
        "        if next_hamming == hamming_numbers[i2] * 2:\n",
        "            i2 += 1\n",
        "        if next_hamming == hamming_numbers[i3] * 3:\n",
        "            i3 += 1\n",
        "        if next_hamming == hamming_numbers[i5] * 5:\n",
        "            i5 += 1\n",
        "\n",
        "    return hamming_numbers[-1]"
      ]
    },
    {
      "cell_type": "code",
      "source": [],
      "metadata": {
        "id": "bAGczLhYA57p"
      },
      "execution_count": null,
      "outputs": []
    }
  ]
}